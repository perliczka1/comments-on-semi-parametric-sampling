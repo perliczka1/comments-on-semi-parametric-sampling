{
 "cells": [
  {
   "cell_type": "code",
   "execution_count": 1,
   "metadata": {},
   "outputs": [],
   "source": [
    "import sys\n",
    "import os\n",
    "import glob\n",
    "from importlib import reload\n",
    "import shutil\n",
    "\n",
    "import pandas as pd\n",
    "from tqdm import tqdm\n",
    "import numpy as np\n",
    "import yaml"
   ]
  },
  {
   "cell_type": "code",
   "execution_count": 2,
   "metadata": {},
   "outputs": [],
   "source": [
    "pd.set_option(\"max_colwidth\", None)"
   ]
  },
  {
   "cell_type": "markdown",
   "metadata": {},
   "source": [
    "### Downloading the data from the expriments"
   ]
  },
  {
   "cell_type": "code",
   "execution_count": null,
   "metadata": {},
   "outputs": [],
   "source": [
    "%%bash\n",
    "mkdir -p data/hp_tuning_results\n",
    "gcloud config set account $COMMENTS_ON_SEMI_PARAMETRIC_SAMPLING_EMAIL\n",
    "gsutil -m cp -r gs://$COMMENTS_ON_SEMI_PARAMETRIC_SAMPLING_BUCKET/hp_tuning_* ../data/hp_tuning_results/"
   ]
  },
  {
   "cell_type": "markdown",
   "metadata": {},
   "source": [
    "### Reading the data"
   ]
  },
  {
   "cell_type": "code",
   "execution_count": 3,
   "metadata": {},
   "outputs": [],
   "source": [
    "path = \"../data/hp_tuning_results\""
   ]
  },
  {
   "cell_type": "code",
   "execution_count": 4,
   "metadata": {},
   "outputs": [
    {
     "name": "stderr",
     "output_type": "stream",
     "text": [
      "100%|██████████| 378/378 [24:13<00:00,  3.84s/it]\n"
     ]
    }
   ],
   "source": [
    "results = []\n",
    "for p in tqdm(sorted(glob.glob(os.path.join(path, \"*\")))): \n",
    "    with open(os.path.join(p, 'environment_kwargs'), 'r') as f:\n",
    "        all_dict = yaml.safe_load(f)\n",
    "    with open(os.path.join(p, 'regrets'), 'r') as f:\n",
    "        regrets = yaml.safe_load(f)\n",
    "        model_name = list(regrets.keys())[0]\n",
    "    with open(os.path.join(p, f'{model_name}_kwargs'), 'r') as f:\n",
    "        model_dict = yaml.safe_load(f)\n",
    "    total_regret = sum(regrets[model_name])\n",
    "    all_dict.update(model_dict)\n",
    "    all_dict['total_regret'] = total_regret\n",
    "    all_dict['cumulative_regret'] = [sum(regrets[model_name][:i]) for i in range(1, len(regrets[model_name])+1)]\n",
    "    all_dict['path'] = p\n",
    "    all_dict['regret'] = regrets[model_name]\n",
    "    all_dict['model_name'] = model_name\n",
    "    results.append(all_dict)"
   ]
  },
  {
   "cell_type": "markdown",
   "metadata": {},
   "source": [
    "### Processing the data"
   ]
  },
  {
   "cell_type": "code",
   "execution_count": 5,
   "metadata": {},
   "outputs": [],
   "source": [
    "df = pd.DataFrame.from_records(results)"
   ]
  },
  {
   "cell_type": "code",
   "execution_count": 6,
   "metadata": {},
   "outputs": [],
   "source": [
    "df.sort_values(by=['reward_distribution', 'a', 'model_name', 'sigma_1', 'sigma_2', 'sigma_3', 'v', 'seed'], inplace=True)"
   ]
  },
  {
   "cell_type": "code",
   "execution_count": 7,
   "metadata": {},
   "outputs": [],
   "source": [
    "def parameters(row: pd.core.series.Series) -> str:\n",
    "    \"\"\"\n",
    "    Process parameters into one string so it's easy to display and analyse it\n",
    "    \"\"\"\n",
    "    if row['v'] > 0:\n",
    "        return 'v = {}'.format(row['v'])\n",
    "    if row['sigma_1'] > 0:\n",
    "        return '$\\sigma_1$ = {}, $\\sigma_2$ = {}, $\\sigma_3$ = {}'.format(row['sigma_1'], row['sigma_2'], row['sigma_3'])\n",
    "    else: \n",
    "        return ''"
   ]
  },
  {
   "cell_type": "code",
   "execution_count": 8,
   "metadata": {},
   "outputs": [],
   "source": [
    "df['parameters'] = df.apply(lambda row: parameters(row), axis=1)"
   ]
  },
  {
   "cell_type": "code",
   "execution_count": 9,
   "metadata": {},
   "outputs": [],
   "source": [
    "df_grouped_for_all_seeds = df.groupby(['reward_distribution',  'a', 'model_name', 'parameters']).total_regret.agg([np.mean, np.max, np.min]).reset_index().rename(columns={'mean': 'reg_mean',\n",
    "                                                                                                                                                'amax': 'reg_max', \n",
    "                                                                                                                                                'amin': 'reg_min'})\n",
    "df_grouped_for_all_seeds['hp_rank'] =  df_grouped_for_all_seeds.groupby(['reward_distribution',  'a',  'model_name']).reg_mean.transform(lambda x: x.rank(method='dense'))\n",
    "df_grouped_for_all_seeds.sort_values(by=['reward_distribution',  'a',  'model_name', 'hp_rank'], inplace=True)"
   ]
  },
  {
   "cell_type": "markdown",
   "metadata": {},
   "source": [
    "### Displaying the best parameters"
   ]
  },
  {
   "cell_type": "code",
   "execution_count": 10,
   "metadata": {},
   "outputs": [
    {
     "data": {
      "text/html": [
       "<div>\n",
       "<style scoped>\n",
       "    .dataframe tbody tr th:only-of-type {\n",
       "        vertical-align: middle;\n",
       "    }\n",
       "\n",
       "    .dataframe tbody tr th {\n",
       "        vertical-align: top;\n",
       "    }\n",
       "\n",
       "    .dataframe thead th {\n",
       "        text-align: right;\n",
       "    }\n",
       "</style>\n",
       "<table border=\"1\" class=\"dataframe\">\n",
       "  <thead>\n",
       "    <tr style=\"text-align: right;\">\n",
       "      <th></th>\n",
       "      <th>reward_distribution</th>\n",
       "      <th>a</th>\n",
       "      <th>model_name</th>\n",
       "      <th>parameters</th>\n",
       "      <th>reg_mean</th>\n",
       "      <th>reg_max</th>\n",
       "      <th>reg_min</th>\n",
       "      <th>hp_rank</th>\n",
       "    </tr>\n",
       "  </thead>\n",
       "  <tbody>\n",
       "    <tr>\n",
       "      <th>0</th>\n",
       "      <td>binomial</td>\n",
       "      <td>0.5</td>\n",
       "      <td>BetaPriorsSampling</td>\n",
       "      <td></td>\n",
       "      <td>5941.204386</td>\n",
       "      <td>6475.735651</td>\n",
       "      <td>5302.610920</td>\n",
       "      <td>1.0</td>\n",
       "    </tr>\n",
       "    <tr>\n",
       "      <th>1</th>\n",
       "      <td>binomial</td>\n",
       "      <td>0.5</td>\n",
       "      <td>GaussianPriorsSampling</td>\n",
       "      <td></td>\n",
       "      <td>7890.395330</td>\n",
       "      <td>8487.572332</td>\n",
       "      <td>7020.608649</td>\n",
       "      <td>1.0</td>\n",
       "    </tr>\n",
       "    <tr>\n",
       "      <th>3</th>\n",
       "      <td>binomial</td>\n",
       "      <td>0.5</td>\n",
       "      <td>LinearGaussianSampling</td>\n",
       "      <td>v = 1.0</td>\n",
       "      <td>1075.894068</td>\n",
       "      <td>1883.257072</td>\n",
       "      <td>356.134152</td>\n",
       "      <td>1.0</td>\n",
       "    </tr>\n",
       "    <tr>\n",
       "      <th>5</th>\n",
       "      <td>binomial</td>\n",
       "      <td>0.5</td>\n",
       "      <td>LinearSemiParametricSampling</td>\n",
       "      <td>$\\sigma_1$ = 0.1, $\\sigma_2$ = 0.1, $\\sigma_3$ = 0.1</td>\n",
       "      <td>824.436089</td>\n",
       "      <td>1056.125711</td>\n",
       "      <td>611.373251</td>\n",
       "      <td>1.0</td>\n",
       "    </tr>\n",
       "    <tr>\n",
       "      <th>32</th>\n",
       "      <td>binomial</td>\n",
       "      <td>1.0</td>\n",
       "      <td>BetaPriorsSampling</td>\n",
       "      <td></td>\n",
       "      <td>4211.215976</td>\n",
       "      <td>5254.014384</td>\n",
       "      <td>2995.814321</td>\n",
       "      <td>1.0</td>\n",
       "    </tr>\n",
       "    <tr>\n",
       "      <th>33</th>\n",
       "      <td>binomial</td>\n",
       "      <td>1.0</td>\n",
       "      <td>GaussianPriorsSampling</td>\n",
       "      <td></td>\n",
       "      <td>12256.829708</td>\n",
       "      <td>13903.871785</td>\n",
       "      <td>10624.124625</td>\n",
       "      <td>1.0</td>\n",
       "    </tr>\n",
       "    <tr>\n",
       "      <th>35</th>\n",
       "      <td>binomial</td>\n",
       "      <td>1.0</td>\n",
       "      <td>LinearGaussianSampling</td>\n",
       "      <td>v = 1.0</td>\n",
       "      <td>254.993251</td>\n",
       "      <td>305.614516</td>\n",
       "      <td>157.123289</td>\n",
       "      <td>1.0</td>\n",
       "    </tr>\n",
       "    <tr>\n",
       "      <th>38</th>\n",
       "      <td>binomial</td>\n",
       "      <td>1.0</td>\n",
       "      <td>LinearSemiParametricSampling</td>\n",
       "      <td>$\\sigma_1$ = 0.1, $\\sigma_2$ = 0.1, $\\sigma_3$ = 1.0</td>\n",
       "      <td>301.320199</td>\n",
       "      <td>793.181882</td>\n",
       "      <td>52.636221</td>\n",
       "      <td>1.0</td>\n",
       "    </tr>\n",
       "    <tr>\n",
       "      <th>64</th>\n",
       "      <td>normal</td>\n",
       "      <td>0.5</td>\n",
       "      <td>GaussianPriorsSampling</td>\n",
       "      <td></td>\n",
       "      <td>7963.033596</td>\n",
       "      <td>8630.281851</td>\n",
       "      <td>7044.887675</td>\n",
       "      <td>1.0</td>\n",
       "    </tr>\n",
       "    <tr>\n",
       "      <th>66</th>\n",
       "      <td>normal</td>\n",
       "      <td>0.5</td>\n",
       "      <td>LinearGaussianSampling</td>\n",
       "      <td>v = 1.0</td>\n",
       "      <td>1432.603003</td>\n",
       "      <td>1734.267903</td>\n",
       "      <td>1140.338986</td>\n",
       "      <td>1.0</td>\n",
       "    </tr>\n",
       "    <tr>\n",
       "      <th>77</th>\n",
       "      <td>normal</td>\n",
       "      <td>0.5</td>\n",
       "      <td>LinearSemiParametricSampling</td>\n",
       "      <td>$\\sigma_1$ = 1.0, $\\sigma_2$ = 0.1, $\\sigma_3$ = 0.1</td>\n",
       "      <td>1451.247241</td>\n",
       "      <td>1859.033840</td>\n",
       "      <td>782.043655</td>\n",
       "      <td>1.0</td>\n",
       "    </tr>\n",
       "    <tr>\n",
       "      <th>95</th>\n",
       "      <td>normal</td>\n",
       "      <td>1.0</td>\n",
       "      <td>GaussianPriorsSampling</td>\n",
       "      <td></td>\n",
       "      <td>12340.168878</td>\n",
       "      <td>13987.569014</td>\n",
       "      <td>10482.607418</td>\n",
       "      <td>1.0</td>\n",
       "    </tr>\n",
       "    <tr>\n",
       "      <th>97</th>\n",
       "      <td>normal</td>\n",
       "      <td>1.0</td>\n",
       "      <td>LinearGaussianSampling</td>\n",
       "      <td>v = 1.0</td>\n",
       "      <td>212.516145</td>\n",
       "      <td>317.148877</td>\n",
       "      <td>113.711410</td>\n",
       "      <td>1.0</td>\n",
       "    </tr>\n",
       "    <tr>\n",
       "      <th>108</th>\n",
       "      <td>normal</td>\n",
       "      <td>1.0</td>\n",
       "      <td>LinearSemiParametricSampling</td>\n",
       "      <td>$\\sigma_1$ = 1.0, $\\sigma_2$ = 0.1, $\\sigma_3$ = 0.1</td>\n",
       "      <td>883.108099</td>\n",
       "      <td>2390.874765</td>\n",
       "      <td>95.115254</td>\n",
       "      <td>1.0</td>\n",
       "    </tr>\n",
       "  </tbody>\n",
       "</table>\n",
       "</div>"
      ],
      "text/plain": [
       "    reward_distribution    a                    model_name  \\\n",
       "0              binomial  0.5            BetaPriorsSampling   \n",
       "1              binomial  0.5        GaussianPriorsSampling   \n",
       "3              binomial  0.5        LinearGaussianSampling   \n",
       "5              binomial  0.5  LinearSemiParametricSampling   \n",
       "32             binomial  1.0            BetaPriorsSampling   \n",
       "33             binomial  1.0        GaussianPriorsSampling   \n",
       "35             binomial  1.0        LinearGaussianSampling   \n",
       "38             binomial  1.0  LinearSemiParametricSampling   \n",
       "64               normal  0.5        GaussianPriorsSampling   \n",
       "66               normal  0.5        LinearGaussianSampling   \n",
       "77               normal  0.5  LinearSemiParametricSampling   \n",
       "95               normal  1.0        GaussianPriorsSampling   \n",
       "97               normal  1.0        LinearGaussianSampling   \n",
       "108              normal  1.0  LinearSemiParametricSampling   \n",
       "\n",
       "                                               parameters      reg_mean  \\\n",
       "0                                                           5941.204386   \n",
       "1                                                           7890.395330   \n",
       "3                                                 v = 1.0   1075.894068   \n",
       "5    $\\sigma_1$ = 0.1, $\\sigma_2$ = 0.1, $\\sigma_3$ = 0.1    824.436089   \n",
       "32                                                          4211.215976   \n",
       "33                                                         12256.829708   \n",
       "35                                                v = 1.0    254.993251   \n",
       "38   $\\sigma_1$ = 0.1, $\\sigma_2$ = 0.1, $\\sigma_3$ = 1.0    301.320199   \n",
       "64                                                          7963.033596   \n",
       "66                                                v = 1.0   1432.603003   \n",
       "77   $\\sigma_1$ = 1.0, $\\sigma_2$ = 0.1, $\\sigma_3$ = 0.1   1451.247241   \n",
       "95                                                         12340.168878   \n",
       "97                                                v = 1.0    212.516145   \n",
       "108  $\\sigma_1$ = 1.0, $\\sigma_2$ = 0.1, $\\sigma_3$ = 0.1    883.108099   \n",
       "\n",
       "          reg_max       reg_min  hp_rank  \n",
       "0     6475.735651   5302.610920      1.0  \n",
       "1     8487.572332   7020.608649      1.0  \n",
       "3     1883.257072    356.134152      1.0  \n",
       "5     1056.125711    611.373251      1.0  \n",
       "32    5254.014384   2995.814321      1.0  \n",
       "33   13903.871785  10624.124625      1.0  \n",
       "35     305.614516    157.123289      1.0  \n",
       "38     793.181882     52.636221      1.0  \n",
       "64    8630.281851   7044.887675      1.0  \n",
       "66    1734.267903   1140.338986      1.0  \n",
       "77    1859.033840    782.043655      1.0  \n",
       "95   13987.569014  10482.607418      1.0  \n",
       "97     317.148877    113.711410      1.0  \n",
       "108   2390.874765     95.115254      1.0  "
      ]
     },
     "execution_count": 10,
     "metadata": {},
     "output_type": "execute_result"
    }
   ],
   "source": [
    "df_grouped_for_all_seeds.query(\"hp_rank == 1\")"
   ]
  }
 ],
 "metadata": {
  "kernelspec": {
   "display_name": "Semi-parametric sampling (.venv)",
   "language": "python",
   "name": ".venv"
  },
  "language_info": {
   "codemirror_mode": {
    "name": "ipython",
    "version": 3
   },
   "file_extension": ".py",
   "mimetype": "text/x-python",
   "name": "python",
   "nbconvert_exporter": "python",
   "pygments_lexer": "ipython3",
   "version": "3.7.8"
  }
 },
 "nbformat": 4,
 "nbformat_minor": 4
}
