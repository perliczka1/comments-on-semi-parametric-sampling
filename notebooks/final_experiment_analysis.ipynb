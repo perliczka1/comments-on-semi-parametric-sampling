{
 "cells": [
  {
   "cell_type": "code",
   "execution_count": 1,
   "metadata": {},
   "outputs": [],
   "source": [
    "import sys\n",
    "import os\n",
    "import glob\n",
    "from importlib import reload\n",
    "from copy import deepcopy\n",
    "from typing import List\n",
    "\n",
    "import numpy as np\n",
    "import yaml\n",
    "import pandas as pd\n",
    "from tqdm import tqdm\n",
    "\n",
    "import matplotlib.pyplot as plt"
   ]
  },
  {
   "cell_type": "code",
   "execution_count": 2,
   "metadata": {},
   "outputs": [],
   "source": [
    "pd.set_option(\"max_colwidth\", None)"
   ]
  },
  {
   "cell_type": "markdown",
   "metadata": {},
   "source": [
    "### Downloading the data from the expriments"
   ]
  },
  {
   "cell_type": "code",
   "execution_count": 3,
   "metadata": {},
   "outputs": [
    {
     "name": "stderr",
     "output_type": "stream",
     "text": [
      "Updated property [core/account].\n",
      "CommandException: No URLs matched: gs://semi-parametric-sampling-bucket-2/Tfinal_experiment_*\n",
      "CommandException: 1 file/object could not be transferred.\n"
     ]
    },
    {
     "ename": "CalledProcessError",
     "evalue": "Command 'b'\\nmkdir -p ../data/final_experiment_results\\ngcloud config set account $COMMENTS_ON_SEMI_PARAMETRIC_SAMPLING_EMAIL\\ngsutil -m cp -r gs://$COMMENTS_ON_SEMI_PARAMETRIC_SAMPLING_BUCKET/Tfinal_experiment_* ../data/final_experiment_results/\\n'' returned non-zero exit status 1.",
     "output_type": "error",
     "traceback": [
      "\u001b[0;31m---------------------------------------------------------------------------\u001b[0m",
      "\u001b[0;31mCalledProcessError\u001b[0m                        Traceback (most recent call last)",
      "\u001b[0;32m<ipython-input-3-8e5f03113325>\u001b[0m in \u001b[0;36m<module>\u001b[0;34m\u001b[0m\n\u001b[0;32m----> 1\u001b[0;31m \u001b[0mget_ipython\u001b[0m\u001b[0;34m(\u001b[0m\u001b[0;34m)\u001b[0m\u001b[0;34m.\u001b[0m\u001b[0mrun_cell_magic\u001b[0m\u001b[0;34m(\u001b[0m\u001b[0;34m'bash'\u001b[0m\u001b[0;34m,\u001b[0m \u001b[0;34m''\u001b[0m\u001b[0;34m,\u001b[0m \u001b[0;34m'\\nmkdir -p ../data/final_experiment_results\\ngcloud config set account $COMMENTS_ON_SEMI_PARAMETRIC_SAMPLING_EMAIL\\ngsutil -m cp -r gs://$COMMENTS_ON_SEMI_PARAMETRIC_SAMPLING_BUCKET/Tfinal_experiment_* ../data/final_experiment_results/\\n'\u001b[0m\u001b[0;34m)\u001b[0m\u001b[0;34m\u001b[0m\u001b[0;34m\u001b[0m\u001b[0m\n\u001b[0m",
      "\u001b[0;32m~/comments-on-semi-parametric-sampling/.venv/lib/python3.7/site-packages/IPython/core/interactiveshell.py\u001b[0m in \u001b[0;36mrun_cell_magic\u001b[0;34m(self, magic_name, line, cell)\u001b[0m\n\u001b[1;32m   2369\u001b[0m             \u001b[0;32mwith\u001b[0m \u001b[0mself\u001b[0m\u001b[0;34m.\u001b[0m\u001b[0mbuiltin_trap\u001b[0m\u001b[0;34m:\u001b[0m\u001b[0;34m\u001b[0m\u001b[0;34m\u001b[0m\u001b[0m\n\u001b[1;32m   2370\u001b[0m                 \u001b[0margs\u001b[0m \u001b[0;34m=\u001b[0m \u001b[0;34m(\u001b[0m\u001b[0mmagic_arg_s\u001b[0m\u001b[0;34m,\u001b[0m \u001b[0mcell\u001b[0m\u001b[0;34m)\u001b[0m\u001b[0;34m\u001b[0m\u001b[0;34m\u001b[0m\u001b[0m\n\u001b[0;32m-> 2371\u001b[0;31m                 \u001b[0mresult\u001b[0m \u001b[0;34m=\u001b[0m \u001b[0mfn\u001b[0m\u001b[0;34m(\u001b[0m\u001b[0;34m*\u001b[0m\u001b[0margs\u001b[0m\u001b[0;34m,\u001b[0m \u001b[0;34m**\u001b[0m\u001b[0mkwargs\u001b[0m\u001b[0;34m)\u001b[0m\u001b[0;34m\u001b[0m\u001b[0;34m\u001b[0m\u001b[0m\n\u001b[0m\u001b[1;32m   2372\u001b[0m             \u001b[0;32mreturn\u001b[0m \u001b[0mresult\u001b[0m\u001b[0;34m\u001b[0m\u001b[0;34m\u001b[0m\u001b[0m\n\u001b[1;32m   2373\u001b[0m \u001b[0;34m\u001b[0m\u001b[0m\n",
      "\u001b[0;32m~/comments-on-semi-parametric-sampling/.venv/lib/python3.7/site-packages/IPython/core/magics/script.py\u001b[0m in \u001b[0;36mnamed_script_magic\u001b[0;34m(line, cell)\u001b[0m\n\u001b[1;32m    140\u001b[0m             \u001b[0;32melse\u001b[0m\u001b[0;34m:\u001b[0m\u001b[0;34m\u001b[0m\u001b[0;34m\u001b[0m\u001b[0m\n\u001b[1;32m    141\u001b[0m                 \u001b[0mline\u001b[0m \u001b[0;34m=\u001b[0m \u001b[0mscript\u001b[0m\u001b[0;34m\u001b[0m\u001b[0;34m\u001b[0m\u001b[0m\n\u001b[0;32m--> 142\u001b[0;31m             \u001b[0;32mreturn\u001b[0m \u001b[0mself\u001b[0m\u001b[0;34m.\u001b[0m\u001b[0mshebang\u001b[0m\u001b[0;34m(\u001b[0m\u001b[0mline\u001b[0m\u001b[0;34m,\u001b[0m \u001b[0mcell\u001b[0m\u001b[0;34m)\u001b[0m\u001b[0;34m\u001b[0m\u001b[0;34m\u001b[0m\u001b[0m\n\u001b[0m\u001b[1;32m    143\u001b[0m \u001b[0;34m\u001b[0m\u001b[0m\n\u001b[1;32m    144\u001b[0m         \u001b[0;31m# write a basic docstring:\u001b[0m\u001b[0;34m\u001b[0m\u001b[0;34m\u001b[0m\u001b[0;34m\u001b[0m\u001b[0m\n",
      "\u001b[0;32m<decorator-gen-110>\u001b[0m in \u001b[0;36mshebang\u001b[0;34m(self, line, cell)\u001b[0m\n",
      "\u001b[0;32m~/comments-on-semi-parametric-sampling/.venv/lib/python3.7/site-packages/IPython/core/magic.py\u001b[0m in \u001b[0;36m<lambda>\u001b[0;34m(f, *a, **k)\u001b[0m\n\u001b[1;32m    185\u001b[0m     \u001b[0;31m# but it's overkill for just that one bit of state.\u001b[0m\u001b[0;34m\u001b[0m\u001b[0;34m\u001b[0m\u001b[0;34m\u001b[0m\u001b[0m\n\u001b[1;32m    186\u001b[0m     \u001b[0;32mdef\u001b[0m \u001b[0mmagic_deco\u001b[0m\u001b[0;34m(\u001b[0m\u001b[0marg\u001b[0m\u001b[0;34m)\u001b[0m\u001b[0;34m:\u001b[0m\u001b[0;34m\u001b[0m\u001b[0;34m\u001b[0m\u001b[0m\n\u001b[0;32m--> 187\u001b[0;31m         \u001b[0mcall\u001b[0m \u001b[0;34m=\u001b[0m \u001b[0;32mlambda\u001b[0m \u001b[0mf\u001b[0m\u001b[0;34m,\u001b[0m \u001b[0;34m*\u001b[0m\u001b[0ma\u001b[0m\u001b[0;34m,\u001b[0m \u001b[0;34m**\u001b[0m\u001b[0mk\u001b[0m\u001b[0;34m:\u001b[0m \u001b[0mf\u001b[0m\u001b[0;34m(\u001b[0m\u001b[0;34m*\u001b[0m\u001b[0ma\u001b[0m\u001b[0;34m,\u001b[0m \u001b[0;34m**\u001b[0m\u001b[0mk\u001b[0m\u001b[0;34m)\u001b[0m\u001b[0;34m\u001b[0m\u001b[0;34m\u001b[0m\u001b[0m\n\u001b[0m\u001b[1;32m    188\u001b[0m \u001b[0;34m\u001b[0m\u001b[0m\n\u001b[1;32m    189\u001b[0m         \u001b[0;32mif\u001b[0m \u001b[0mcallable\u001b[0m\u001b[0;34m(\u001b[0m\u001b[0marg\u001b[0m\u001b[0;34m)\u001b[0m\u001b[0;34m:\u001b[0m\u001b[0;34m\u001b[0m\u001b[0;34m\u001b[0m\u001b[0m\n",
      "\u001b[0;32m~/comments-on-semi-parametric-sampling/.venv/lib/python3.7/site-packages/IPython/core/magics/script.py\u001b[0m in \u001b[0;36mshebang\u001b[0;34m(self, line, cell)\u001b[0m\n\u001b[1;32m    243\u001b[0m             \u001b[0msys\u001b[0m\u001b[0;34m.\u001b[0m\u001b[0mstderr\u001b[0m\u001b[0;34m.\u001b[0m\u001b[0mflush\u001b[0m\u001b[0;34m(\u001b[0m\u001b[0;34m)\u001b[0m\u001b[0;34m\u001b[0m\u001b[0;34m\u001b[0m\u001b[0m\n\u001b[1;32m    244\u001b[0m         \u001b[0;32mif\u001b[0m \u001b[0margs\u001b[0m\u001b[0;34m.\u001b[0m\u001b[0mraise_error\u001b[0m \u001b[0;32mand\u001b[0m \u001b[0mp\u001b[0m\u001b[0;34m.\u001b[0m\u001b[0mreturncode\u001b[0m\u001b[0;34m!=\u001b[0m\u001b[0;36m0\u001b[0m\u001b[0;34m:\u001b[0m\u001b[0;34m\u001b[0m\u001b[0;34m\u001b[0m\u001b[0m\n\u001b[0;32m--> 245\u001b[0;31m             \u001b[0;32mraise\u001b[0m \u001b[0mCalledProcessError\u001b[0m\u001b[0;34m(\u001b[0m\u001b[0mp\u001b[0m\u001b[0;34m.\u001b[0m\u001b[0mreturncode\u001b[0m\u001b[0;34m,\u001b[0m \u001b[0mcell\u001b[0m\u001b[0;34m,\u001b[0m \u001b[0moutput\u001b[0m\u001b[0;34m=\u001b[0m\u001b[0mout\u001b[0m\u001b[0;34m,\u001b[0m \u001b[0mstderr\u001b[0m\u001b[0;34m=\u001b[0m\u001b[0merr\u001b[0m\u001b[0;34m)\u001b[0m\u001b[0;34m\u001b[0m\u001b[0;34m\u001b[0m\u001b[0m\n\u001b[0m\u001b[1;32m    246\u001b[0m \u001b[0;34m\u001b[0m\u001b[0m\n\u001b[1;32m    247\u001b[0m     \u001b[0;32mdef\u001b[0m \u001b[0m_run_script\u001b[0m\u001b[0;34m(\u001b[0m\u001b[0mself\u001b[0m\u001b[0;34m,\u001b[0m \u001b[0mp\u001b[0m\u001b[0;34m,\u001b[0m \u001b[0mcell\u001b[0m\u001b[0;34m,\u001b[0m \u001b[0mto_close\u001b[0m\u001b[0;34m)\u001b[0m\u001b[0;34m:\u001b[0m\u001b[0;34m\u001b[0m\u001b[0;34m\u001b[0m\u001b[0m\n",
      "\u001b[0;31mCalledProcessError\u001b[0m: Command 'b'\\nmkdir -p ../data/final_experiment_results\\ngcloud config set account $COMMENTS_ON_SEMI_PARAMETRIC_SAMPLING_EMAIL\\ngsutil -m cp -r gs://$COMMENTS_ON_SEMI_PARAMETRIC_SAMPLING_BUCKET/Tfinal_experiment_* ../data/final_experiment_results/\\n'' returned non-zero exit status 1."
     ]
    }
   ],
   "source": [
    "%%bash \n",
    "\n",
    "mkdir -p ../data/final_experiment_results\n",
    "gcloud config set account $COMMENTS_ON_SEMI_PARAMETRIC_SAMPLING_EMAIL\n",
    "gsutil -m cp -r gs://$COMMENTS_ON_SEMI_PARAMETRIC_SAMPLING_BUCKET/Tfinal_experiment_* ../data/final_experiment_results/"
   ]
  },
  {
   "cell_type": "markdown",
   "metadata": {},
   "source": [
    "### Reading the data"
   ]
  },
  {
   "cell_type": "code",
   "execution_count": 7,
   "metadata": {},
   "outputs": [],
   "source": [
    "path = '../data/final_experiment_results'"
   ]
  },
  {
   "cell_type": "code",
   "execution_count": 8,
   "metadata": {},
   "outputs": [
    {
     "name": "stderr",
     "output_type": "stream",
     "text": [
      "100%|██████████| 12/12 [08:13<00:00, 41.15s/it]\n"
     ]
    }
   ],
   "source": [
    "results = []\n",
    "for p in tqdm(sorted(glob.glob(os.path.join(path, \"*\")))): \n",
    "    with open(os.path.join(p, 'environment_kwargs'), 'r') as f:\n",
    "        environment_dict = yaml.safe_load(f)\n",
    "    with open(os.path.join(p, 'regrets'), 'r') as f:\n",
    "        regrets = yaml.safe_load(f)\n",
    "    model_names = list(regrets.keys())\n",
    "    for model_name in model_names:\n",
    "        all_dict = deepcopy(environment_dict)\n",
    "        with open(os.path.join(p, f'{model_name}_kwargs'), 'r') as f:\n",
    "            model_dict = yaml.safe_load(f)\n",
    "        total_regret = sum(regrets[model_name])\n",
    "        all_dict.update(model_dict)\n",
    "        all_dict['total_regret'] = total_regret\n",
    "        all_dict['path'] = p\n",
    "        all_dict['regret'] = regrets[model_name]\n",
    "        all_dict['model_name'] = model_name\n",
    "        results.append(all_dict)"
   ]
  },
  {
   "cell_type": "markdown",
   "metadata": {},
   "source": [
    "### Processing the data"
   ]
  },
  {
   "cell_type": "code",
   "execution_count": 9,
   "metadata": {},
   "outputs": [],
   "source": [
    "df = pd.DataFrame.from_records(results)"
   ]
  },
  {
   "cell_type": "code",
   "execution_count": 10,
   "metadata": {},
   "outputs": [
    {
     "data": {
      "text/plain": [
       "LinearGaussianSampling          12\n",
       "GaussianPriorsSampling          12\n",
       "LinearSemiParametricSampling    12\n",
       "BetaPriorsSampling               6\n",
       "Name: model_name, dtype: int64"
      ]
     },
     "execution_count": 10,
     "metadata": {},
     "output_type": "execute_result"
    }
   ],
   "source": [
    "df.model_name.value_counts()"
   ]
  },
  {
   "cell_type": "markdown",
   "metadata": {},
   "source": [
    "### Calculation of cumulative regret"
   ]
  },
  {
   "cell_type": "code",
   "execution_count": 11,
   "metadata": {},
   "outputs": [],
   "source": [
    "def get_cumulative_regret(regret: List[float]) -> np.array:\n",
    "    regret_np = np.asarray(regret)\n",
    "    return np.cumsum(regret_np)"
   ]
  },
  {
   "cell_type": "code",
   "execution_count": 12,
   "metadata": {},
   "outputs": [
    {
     "data": {
      "text/plain": [
       "array([ 0, 13, 15])"
      ]
     },
     "execution_count": 12,
     "metadata": {},
     "output_type": "execute_result"
    }
   ],
   "source": [
    "get_cumulative_regret([0, 13, 2])"
   ]
  },
  {
   "cell_type": "code",
   "execution_count": 13,
   "metadata": {},
   "outputs": [],
   "source": [
    "df['cumulative_regret'] = df.regret.apply(get_cumulative_regret)"
   ]
  },
  {
   "cell_type": "code",
   "execution_count": 14,
   "metadata": {},
   "outputs": [],
   "source": [
    "df.sort_values(by=['reward_distribution', 'a', 'model_name', 'sigma_1', 'sigma_2', 'sigma_3', 'v', 'seed'], inplace=True)"
   ]
  },
  {
   "cell_type": "code",
   "execution_count": 15,
   "metadata": {},
   "outputs": [],
   "source": [
    "def parameters(row: pd.core.series.Series) -> str:\n",
    "    \"\"\"\n",
    "    Process parameters into one string so it's easy to display and analyse it\n",
    "    \"\"\"\n",
    "    if row['v'] > 0:\n",
    "        return 'v = {}'.format(row['v'])\n",
    "    if row['sigma_1'] > 0:\n",
    "        return '$\\sigma_1$ = {}, $\\sigma_2$ = {}, $\\sigma_3$ = {}'.format(row['sigma_1'], row['sigma_2'], row['sigma_3'])\n",
    "    else: \n",
    "        return ''"
   ]
  },
  {
   "cell_type": "code",
   "execution_count": 16,
   "metadata": {},
   "outputs": [],
   "source": [
    "df['parameters'] = df.apply(lambda row: parameters(row), axis=1)"
   ]
  },
  {
   "cell_type": "code",
   "execution_count": 17,
   "metadata": {},
   "outputs": [],
   "source": [
    "df_grouped_for_all_seeds = df.groupby(['reward_distribution',  'a', 'model_name', 'parameters']).total_regret.agg([np.mean, np.max, np.min]).reset_index().rename(columns={'mean': 'reg_mean',\n",
    "                                                                                                                                                'amax': 'reg_max', \n",
    "                                                                                                                                                'amin': 'reg_min'})\n",
    "df_grouped_for_all_seeds['hp_rank'] =  df_grouped_for_all_seeds.groupby(['reward_distribution',  'a',  'model_name']).reg_mean.transform(lambda x: x.rank(method='dense'))\n",
    "df_grouped_for_all_seeds.sort_values(by=['reward_distribution',  'a',  'model_name', 'hp_rank'], inplace=True)"
   ]
  },
  {
   "cell_type": "markdown",
   "metadata": {},
   "source": [
    "### Table with the results"
   ]
  },
  {
   "cell_type": "code",
   "execution_count": 18,
   "metadata": {},
   "outputs": [
    {
     "data": {
      "text/html": [
       "<div>\n",
       "<style scoped>\n",
       "    .dataframe tbody tr th:only-of-type {\n",
       "        vertical-align: middle;\n",
       "    }\n",
       "\n",
       "    .dataframe tbody tr th {\n",
       "        vertical-align: top;\n",
       "    }\n",
       "\n",
       "    .dataframe thead th {\n",
       "        text-align: right;\n",
       "    }\n",
       "</style>\n",
       "<table border=\"1\" class=\"dataframe\">\n",
       "  <thead>\n",
       "    <tr style=\"text-align: right;\">\n",
       "      <th></th>\n",
       "      <th>reward_distribution</th>\n",
       "      <th>a</th>\n",
       "      <th>model_name</th>\n",
       "      <th>parameters</th>\n",
       "      <th>reg_mean</th>\n",
       "      <th>reg_max</th>\n",
       "      <th>reg_min</th>\n",
       "      <th>hp_rank</th>\n",
       "    </tr>\n",
       "  </thead>\n",
       "  <tbody>\n",
       "    <tr>\n",
       "      <th>0</th>\n",
       "      <td>binomial</td>\n",
       "      <td>0.5</td>\n",
       "      <td>BetaPriorsSampling</td>\n",
       "      <td></td>\n",
       "      <td>8485.567719</td>\n",
       "      <td>10979.346765</td>\n",
       "      <td>5918.236027</td>\n",
       "      <td>1.0</td>\n",
       "    </tr>\n",
       "    <tr>\n",
       "      <th>1</th>\n",
       "      <td>binomial</td>\n",
       "      <td>0.5</td>\n",
       "      <td>GaussianPriorsSampling</td>\n",
       "      <td></td>\n",
       "      <td>33996.477382</td>\n",
       "      <td>35459.349794</td>\n",
       "      <td>31228.519594</td>\n",
       "      <td>1.0</td>\n",
       "    </tr>\n",
       "    <tr>\n",
       "      <th>2</th>\n",
       "      <td>binomial</td>\n",
       "      <td>0.5</td>\n",
       "      <td>LinearGaussianSampling</td>\n",
       "      <td>v = 1.0</td>\n",
       "      <td>5850.107473</td>\n",
       "      <td>10219.050364</td>\n",
       "      <td>1392.792874</td>\n",
       "      <td>1.0</td>\n",
       "    </tr>\n",
       "    <tr>\n",
       "      <th>3</th>\n",
       "      <td>binomial</td>\n",
       "      <td>0.5</td>\n",
       "      <td>LinearSemiParametricSampling</td>\n",
       "      <td>$\\sigma_1$ = 0.1, $\\sigma_2$ = 0.1, $\\sigma_3$ = 0.1</td>\n",
       "      <td>11887.841665</td>\n",
       "      <td>28273.943636</td>\n",
       "      <td>146.797519</td>\n",
       "      <td>1.0</td>\n",
       "    </tr>\n",
       "    <tr>\n",
       "      <th>4</th>\n",
       "      <td>binomial</td>\n",
       "      <td>1.0</td>\n",
       "      <td>BetaPriorsSampling</td>\n",
       "      <td></td>\n",
       "      <td>7355.232504</td>\n",
       "      <td>8359.397451</td>\n",
       "      <td>6493.954159</td>\n",
       "      <td>1.0</td>\n",
       "    </tr>\n",
       "    <tr>\n",
       "      <th>5</th>\n",
       "      <td>binomial</td>\n",
       "      <td>1.0</td>\n",
       "      <td>GaussianPriorsSampling</td>\n",
       "      <td></td>\n",
       "      <td>29788.953966</td>\n",
       "      <td>32396.543469</td>\n",
       "      <td>27389.006134</td>\n",
       "      <td>1.0</td>\n",
       "    </tr>\n",
       "    <tr>\n",
       "      <th>6</th>\n",
       "      <td>binomial</td>\n",
       "      <td>1.0</td>\n",
       "      <td>LinearGaussianSampling</td>\n",
       "      <td>v = 1.0</td>\n",
       "      <td>537.308866</td>\n",
       "      <td>818.742203</td>\n",
       "      <td>241.478109</td>\n",
       "      <td>1.0</td>\n",
       "    </tr>\n",
       "    <tr>\n",
       "      <th>7</th>\n",
       "      <td>binomial</td>\n",
       "      <td>1.0</td>\n",
       "      <td>LinearSemiParametricSampling</td>\n",
       "      <td>$\\sigma_1$ = 0.1, $\\sigma_2$ = 0.1, $\\sigma_3$ = 1.0</td>\n",
       "      <td>143.273243</td>\n",
       "      <td>224.208509</td>\n",
       "      <td>80.402564</td>\n",
       "      <td>1.0</td>\n",
       "    </tr>\n",
       "    <tr>\n",
       "      <th>8</th>\n",
       "      <td>normal</td>\n",
       "      <td>0.5</td>\n",
       "      <td>GaussianPriorsSampling</td>\n",
       "      <td></td>\n",
       "      <td>34950.217525</td>\n",
       "      <td>38854.898440</td>\n",
       "      <td>30551.222317</td>\n",
       "      <td>1.0</td>\n",
       "    </tr>\n",
       "    <tr>\n",
       "      <th>9</th>\n",
       "      <td>normal</td>\n",
       "      <td>0.5</td>\n",
       "      <td>LinearGaussianSampling</td>\n",
       "      <td>v = 1.0</td>\n",
       "      <td>29757.076802</td>\n",
       "      <td>31937.356460</td>\n",
       "      <td>26442.405550</td>\n",
       "      <td>1.0</td>\n",
       "    </tr>\n",
       "    <tr>\n",
       "      <th>10</th>\n",
       "      <td>normal</td>\n",
       "      <td>0.5</td>\n",
       "      <td>LinearSemiParametricSampling</td>\n",
       "      <td>$\\sigma_1$ = 1.0, $\\sigma_2$ = 0.1, $\\sigma_3$ = 0.1</td>\n",
       "      <td>2180.790573</td>\n",
       "      <td>4445.420847</td>\n",
       "      <td>883.141436</td>\n",
       "      <td>1.0</td>\n",
       "    </tr>\n",
       "    <tr>\n",
       "      <th>11</th>\n",
       "      <td>normal</td>\n",
       "      <td>1.0</td>\n",
       "      <td>GaussianPriorsSampling</td>\n",
       "      <td></td>\n",
       "      <td>29532.664334</td>\n",
       "      <td>31751.637640</td>\n",
       "      <td>27199.172904</td>\n",
       "      <td>1.0</td>\n",
       "    </tr>\n",
       "    <tr>\n",
       "      <th>12</th>\n",
       "      <td>normal</td>\n",
       "      <td>1.0</td>\n",
       "      <td>LinearGaussianSampling</td>\n",
       "      <td>v = 1.0</td>\n",
       "      <td>587.056062</td>\n",
       "      <td>1121.743675</td>\n",
       "      <td>249.697076</td>\n",
       "      <td>1.0</td>\n",
       "    </tr>\n",
       "    <tr>\n",
       "      <th>13</th>\n",
       "      <td>normal</td>\n",
       "      <td>1.0</td>\n",
       "      <td>LinearSemiParametricSampling</td>\n",
       "      <td>$\\sigma_1$ = 1.0, $\\sigma_2$ = 0.1, $\\sigma_3$ = 0.1</td>\n",
       "      <td>2675.451302</td>\n",
       "      <td>5452.125400</td>\n",
       "      <td>370.627636</td>\n",
       "      <td>1.0</td>\n",
       "    </tr>\n",
       "  </tbody>\n",
       "</table>\n",
       "</div>"
      ],
      "text/plain": [
       "   reward_distribution    a                    model_name  \\\n",
       "0             binomial  0.5            BetaPriorsSampling   \n",
       "1             binomial  0.5        GaussianPriorsSampling   \n",
       "2             binomial  0.5        LinearGaussianSampling   \n",
       "3             binomial  0.5  LinearSemiParametricSampling   \n",
       "4             binomial  1.0            BetaPriorsSampling   \n",
       "5             binomial  1.0        GaussianPriorsSampling   \n",
       "6             binomial  1.0        LinearGaussianSampling   \n",
       "7             binomial  1.0  LinearSemiParametricSampling   \n",
       "8               normal  0.5        GaussianPriorsSampling   \n",
       "9               normal  0.5        LinearGaussianSampling   \n",
       "10              normal  0.5  LinearSemiParametricSampling   \n",
       "11              normal  1.0        GaussianPriorsSampling   \n",
       "12              normal  1.0        LinearGaussianSampling   \n",
       "13              normal  1.0  LinearSemiParametricSampling   \n",
       "\n",
       "                                              parameters      reg_mean  \\\n",
       "0                                                          8485.567719   \n",
       "1                                                         33996.477382   \n",
       "2                                                v = 1.0   5850.107473   \n",
       "3   $\\sigma_1$ = 0.1, $\\sigma_2$ = 0.1, $\\sigma_3$ = 0.1  11887.841665   \n",
       "4                                                          7355.232504   \n",
       "5                                                         29788.953966   \n",
       "6                                                v = 1.0    537.308866   \n",
       "7   $\\sigma_1$ = 0.1, $\\sigma_2$ = 0.1, $\\sigma_3$ = 1.0    143.273243   \n",
       "8                                                         34950.217525   \n",
       "9                                                v = 1.0  29757.076802   \n",
       "10  $\\sigma_1$ = 1.0, $\\sigma_2$ = 0.1, $\\sigma_3$ = 0.1   2180.790573   \n",
       "11                                                        29532.664334   \n",
       "12                                               v = 1.0    587.056062   \n",
       "13  $\\sigma_1$ = 1.0, $\\sigma_2$ = 0.1, $\\sigma_3$ = 0.1   2675.451302   \n",
       "\n",
       "         reg_max       reg_min  hp_rank  \n",
       "0   10979.346765   5918.236027      1.0  \n",
       "1   35459.349794  31228.519594      1.0  \n",
       "2   10219.050364   1392.792874      1.0  \n",
       "3   28273.943636    146.797519      1.0  \n",
       "4    8359.397451   6493.954159      1.0  \n",
       "5   32396.543469  27389.006134      1.0  \n",
       "6     818.742203    241.478109      1.0  \n",
       "7     224.208509     80.402564      1.0  \n",
       "8   38854.898440  30551.222317      1.0  \n",
       "9   31937.356460  26442.405550      1.0  \n",
       "10   4445.420847    883.141436      1.0  \n",
       "11  31751.637640  27199.172904      1.0  \n",
       "12   1121.743675    249.697076      1.0  \n",
       "13   5452.125400    370.627636      1.0  "
      ]
     },
     "execution_count": 18,
     "metadata": {},
     "output_type": "execute_result"
    }
   ],
   "source": [
    "df_grouped_for_all_seeds"
   ]
  },
  {
   "cell_type": "markdown",
   "metadata": {},
   "source": [
    "### Preparation of table for the paper"
   ]
  },
  {
   "cell_type": "code",
   "execution_count": 19,
   "metadata": {},
   "outputs": [],
   "source": [
    "df_to_table = df_grouped_for_all_seeds.copy()\n",
    "df_to_table.rename(columns={'reward_distribution': 'Reward distribution', 'a': 'a', \n",
    "                             'model_name': 'Model', 'parameters':'Hyperparametes',\n",
    "                             'reg_mean': 'Average cumulative regret', 'reg_max': 'Max', \n",
    "                             'reg_min': 'Min', 'hp_rank': 'hp_rank'}, inplace=True)"
   ]
  },
  {
   "cell_type": "markdown",
   "metadata": {},
   "source": [
    "Renaming the models:"
   ]
  },
  {
   "cell_type": "code",
   "execution_count": 20,
   "metadata": {},
   "outputs": [],
   "source": [
    "model_shorter = {'BetaPriorsSampling': 'TS-Beta',\n",
    " 'GaussianPriorsSampling': 'TS-Gau',\n",
    " 'LinearGaussianSampling': 'TS-Lin',\n",
    " 'LinearSemiParametricSampling': 'LSPS'}\n",
    "for m, s in model_shorter.items():\n",
    "    df_to_table.loc[df_to_table['Model']==m, 'Model'] = s"
   ]
  },
  {
   "cell_type": "code",
   "execution_count": 21,
   "metadata": {},
   "outputs": [
    {
     "name": "stdout",
     "output_type": "stream",
     "text": [
      "\\begin{tabular}{lrlrrrl}\n",
      "\\toprule\n",
      "Reward distribution &    a &    Model &  Average cumulative regret &      Min &      Max &                                        Hyperparametes \\\\\n",
      "\\midrule\n",
      "           binomial & 0.50 &  TS-Beta &                    8485.57 &  5918.24 & 10979.35 &                                                       \\\\\n",
      "           binomial & 0.50 &   TS-Gau &                   33996.48 & 31228.52 & 35459.35 &                                                       \\\\\n",
      "           binomial & 0.50 &   TS-Lin &                    5850.11 &  1392.79 & 10219.05 &                                               v = 1.0 \\\\\n",
      "           binomial & 0.50 &     LSPS &                   11887.84 &   146.80 & 28273.94 &  \\$\\textbackslash sigma\\_1\\$ = 0.1, \\$\\textbackslash sigma\\_2\\$ = 0.1, \\$\\textbackslash sigma\\_3\\$ = 0.1 \\\\\n",
      "           binomial & 1.00 &  TS-Beta &                    7355.23 &  6493.95 &  8359.40 &                                                       \\\\\n",
      "           binomial & 1.00 &   TS-Gau &                   29788.95 & 27389.01 & 32396.54 &                                                       \\\\\n",
      "           binomial & 1.00 &   TS-Lin &                     537.31 &   241.48 &   818.74 &                                               v = 1.0 \\\\\n",
      "           binomial & 1.00 &     LSPS &                     143.27 &    80.40 &   224.21 &  \\$\\textbackslash sigma\\_1\\$ = 0.1, \\$\\textbackslash sigma\\_2\\$ = 0.1, \\$\\textbackslash sigma\\_3\\$ = 1.0 \\\\\n",
      "             normal & 0.50 &   TS-Gau &                   34950.22 & 30551.22 & 38854.90 &                                                       \\\\\n",
      "             normal & 0.50 &   TS-Lin &                   29757.08 & 26442.41 & 31937.36 &                                               v = 1.0 \\\\\n",
      "             normal & 0.50 &     LSPS &                    2180.79 &   883.14 &  4445.42 &  \\$\\textbackslash sigma\\_1\\$ = 1.0, \\$\\textbackslash sigma\\_2\\$ = 0.1, \\$\\textbackslash sigma\\_3\\$ = 0.1 \\\\\n",
      "             normal & 1.00 &   TS-Gau &                   29532.66 & 27199.17 & 31751.64 &                                                       \\\\\n",
      "             normal & 1.00 &   TS-Lin &                     587.06 &   249.70 &  1121.74 &                                               v = 1.0 \\\\\n",
      "             normal & 1.00 &     LSPS &                    2675.45 &   370.63 &  5452.13 &  \\$\\textbackslash sigma\\_1\\$ = 1.0, \\$\\textbackslash sigma\\_2\\$ = 0.1, \\$\\textbackslash sigma\\_3\\$ = 0.1 \\\\\n",
      "\\bottomrule\n",
      "\\end{tabular}\n",
      "\n"
     ]
    }
   ],
   "source": [
    "print(df_to_table[['Reward distribution', 'a', 'Model', 'Average cumulative regret', 'Min', 'Max', 'Hyperparametes']].to_latex(index=False, float_format=\"%.2f\"))"
   ]
  },
  {
   "cell_type": "markdown",
   "metadata": {},
   "source": [
    "### Plots for the paper"
   ]
  },
  {
   "cell_type": "code",
   "execution_count": 22,
   "metadata": {},
   "outputs": [
    {
     "name": "stderr",
     "output_type": "stream",
     "text": [
      "42it [00:02, 19.69it/s]\n"
     ]
    }
   ],
   "source": [
    "dfs_for_plot = []\n",
    "for i, row in tqdm(df.iterrows()):\n",
    "    df_tmp = pd.DataFrame({'cumulative_regret': row.cumulative_regret, 'step': list(range(len(row.cumulative_regret))), \n",
    "                           'model_name': row['model_name'], 'reward_distribution': row['reward_distribution'],\n",
    "                           'parameters': row['parameters'], 'seed': row['seed'], 'a': row['a']})\n",
    "    dfs_for_plot.append(df_tmp)"
   ]
  },
  {
   "cell_type": "code",
   "execution_count": 23,
   "metadata": {},
   "outputs": [
    {
     "data": {
      "text/html": [
       "<div>\n",
       "<style scoped>\n",
       "    .dataframe tbody tr th:only-of-type {\n",
       "        vertical-align: middle;\n",
       "    }\n",
       "\n",
       "    .dataframe tbody tr th {\n",
       "        vertical-align: top;\n",
       "    }\n",
       "\n",
       "    .dataframe thead th {\n",
       "        text-align: right;\n",
       "    }\n",
       "</style>\n",
       "<table border=\"1\" class=\"dataframe\">\n",
       "  <thead>\n",
       "    <tr style=\"text-align: right;\">\n",
       "      <th></th>\n",
       "      <th>cumulative_regret</th>\n",
       "      <th>step</th>\n",
       "      <th>model_name</th>\n",
       "      <th>reward_distribution</th>\n",
       "      <th>parameters</th>\n",
       "      <th>seed</th>\n",
       "      <th>a</th>\n",
       "    </tr>\n",
       "  </thead>\n",
       "  <tbody>\n",
       "    <tr>\n",
       "      <th>0</th>\n",
       "      <td>0.202205</td>\n",
       "      <td>0</td>\n",
       "      <td>BetaPriorsSampling</td>\n",
       "      <td>binomial</td>\n",
       "      <td></td>\n",
       "      <td>4</td>\n",
       "      <td>0.5</td>\n",
       "    </tr>\n",
       "    <tr>\n",
       "      <th>1</th>\n",
       "      <td>0.540653</td>\n",
       "      <td>1</td>\n",
       "      <td>BetaPriorsSampling</td>\n",
       "      <td>binomial</td>\n",
       "      <td></td>\n",
       "      <td>4</td>\n",
       "      <td>0.5</td>\n",
       "    </tr>\n",
       "    <tr>\n",
       "      <th>2</th>\n",
       "      <td>0.597202</td>\n",
       "      <td>2</td>\n",
       "      <td>BetaPriorsSampling</td>\n",
       "      <td>binomial</td>\n",
       "      <td></td>\n",
       "      <td>4</td>\n",
       "      <td>0.5</td>\n",
       "    </tr>\n",
       "    <tr>\n",
       "      <th>3</th>\n",
       "      <td>1.086173</td>\n",
       "      <td>3</td>\n",
       "      <td>BetaPriorsSampling</td>\n",
       "      <td>binomial</td>\n",
       "      <td></td>\n",
       "      <td>4</td>\n",
       "      <td>0.5</td>\n",
       "    </tr>\n",
       "    <tr>\n",
       "      <th>4</th>\n",
       "      <td>1.436495</td>\n",
       "      <td>4</td>\n",
       "      <td>BetaPriorsSampling</td>\n",
       "      <td>binomial</td>\n",
       "      <td></td>\n",
       "      <td>4</td>\n",
       "      <td>0.5</td>\n",
       "    </tr>\n",
       "  </tbody>\n",
       "</table>\n",
       "</div>"
      ],
      "text/plain": [
       "   cumulative_regret  step          model_name reward_distribution parameters  \\\n",
       "0           0.202205     0  BetaPriorsSampling            binomial              \n",
       "1           0.540653     1  BetaPriorsSampling            binomial              \n",
       "2           0.597202     2  BetaPriorsSampling            binomial              \n",
       "3           1.086173     3  BetaPriorsSampling            binomial              \n",
       "4           1.436495     4  BetaPriorsSampling            binomial              \n",
       "\n",
       "   seed    a  \n",
       "0     4  0.5  \n",
       "1     4  0.5  \n",
       "2     4  0.5  \n",
       "3     4  0.5  \n",
       "4     4  0.5  "
      ]
     },
     "execution_count": 23,
     "metadata": {},
     "output_type": "execute_result"
    }
   ],
   "source": [
    "df_for_plot = pd.concat(dfs_for_plot)\n",
    "df_for_plot.head()"
   ]
  },
  {
   "cell_type": "code",
   "execution_count": 24,
   "metadata": {},
   "outputs": [
    {
     "data": {
      "text/html": [
       "<div>\n",
       "<style scoped>\n",
       "    .dataframe tbody tr th:only-of-type {\n",
       "        vertical-align: middle;\n",
       "    }\n",
       "\n",
       "    .dataframe tbody tr th {\n",
       "        vertical-align: top;\n",
       "    }\n",
       "\n",
       "    .dataframe thead th {\n",
       "        text-align: right;\n",
       "    }\n",
       "</style>\n",
       "<table border=\"1\" class=\"dataframe\">\n",
       "  <thead>\n",
       "    <tr style=\"text-align: right;\">\n",
       "      <th></th>\n",
       "      <th>step</th>\n",
       "      <th>model_name</th>\n",
       "      <th>reward_distribution</th>\n",
       "      <th>parameters</th>\n",
       "      <th>a</th>\n",
       "      <th>mean</th>\n",
       "      <th>amax</th>\n",
       "      <th>amin</th>\n",
       "    </tr>\n",
       "  </thead>\n",
       "  <tbody>\n",
       "    <tr>\n",
       "      <th>0</th>\n",
       "      <td>0</td>\n",
       "      <td>BetaPriorsSampling</td>\n",
       "      <td>binomial</td>\n",
       "      <td></td>\n",
       "      <td>0.5</td>\n",
       "      <td>0.425834</td>\n",
       "      <td>0.612039</td>\n",
       "      <td>0.202205</td>\n",
       "    </tr>\n",
       "    <tr>\n",
       "      <th>1</th>\n",
       "      <td>0</td>\n",
       "      <td>BetaPriorsSampling</td>\n",
       "      <td>binomial</td>\n",
       "      <td></td>\n",
       "      <td>1.0</td>\n",
       "      <td>0.458444</td>\n",
       "      <td>0.510850</td>\n",
       "      <td>0.394442</td>\n",
       "    </tr>\n",
       "    <tr>\n",
       "      <th>2</th>\n",
       "      <td>0</td>\n",
       "      <td>GaussianPriorsSampling</td>\n",
       "      <td>binomial</td>\n",
       "      <td></td>\n",
       "      <td>0.5</td>\n",
       "      <td>0.460697</td>\n",
       "      <td>0.639683</td>\n",
       "      <td>0.316563</td>\n",
       "    </tr>\n",
       "    <tr>\n",
       "      <th>3</th>\n",
       "      <td>0</td>\n",
       "      <td>GaussianPriorsSampling</td>\n",
       "      <td>binomial</td>\n",
       "      <td></td>\n",
       "      <td>1.0</td>\n",
       "      <td>0.342272</td>\n",
       "      <td>0.684357</td>\n",
       "      <td>0.055597</td>\n",
       "    </tr>\n",
       "    <tr>\n",
       "      <th>4</th>\n",
       "      <td>0</td>\n",
       "      <td>GaussianPriorsSampling</td>\n",
       "      <td>normal</td>\n",
       "      <td></td>\n",
       "      <td>0.5</td>\n",
       "      <td>0.460697</td>\n",
       "      <td>0.639683</td>\n",
       "      <td>0.316563</td>\n",
       "    </tr>\n",
       "  </tbody>\n",
       "</table>\n",
       "</div>"
      ],
      "text/plain": [
       "   step              model_name reward_distribution parameters    a      mean  \\\n",
       "0     0      BetaPriorsSampling            binomial             0.5  0.425834   \n",
       "1     0      BetaPriorsSampling            binomial             1.0  0.458444   \n",
       "2     0  GaussianPriorsSampling            binomial             0.5  0.460697   \n",
       "3     0  GaussianPriorsSampling            binomial             1.0  0.342272   \n",
       "4     0  GaussianPriorsSampling              normal             0.5  0.460697   \n",
       "\n",
       "       amax      amin  \n",
       "0  0.612039  0.202205  \n",
       "1  0.510850  0.394442  \n",
       "2  0.639683  0.316563  \n",
       "3  0.684357  0.055597  \n",
       "4  0.639683  0.316563  "
      ]
     },
     "execution_count": 24,
     "metadata": {},
     "output_type": "execute_result"
    }
   ],
   "source": [
    "agg_columns = [c for c in df_for_plot.columns if c not in ('seed', 'cumulative_regret')]\n",
    "df_for_plot_agg = df_for_plot.groupby(agg_columns).cumulative_regret.agg([np.mean, np.max, np.min]).reset_index()\n",
    "df_for_plot_agg.head()"
   ]
  },
  {
   "cell_type": "code",
   "execution_count": 26,
   "metadata": {},
   "outputs": [
    {
     "name": "stdout",
     "output_type": "stream",
     "text": [
      "normal\n",
      "0.5\n",
      "normal\n",
      "1.0\n",
      "binomial\n",
      "0.5\n",
      "binomial\n",
      "1.0\n"
     ]
    },
    {
     "name": "stderr",
     "output_type": "stream",
     "text": [
      "No handles with labels found to put in legend.\n",
      "No handles with labels found to put in legend.\n"
     ]
    },
    {
     "data": {
      "image/png": "[encoded data removed]",
      "text/plain": [
       "<Figure size 1080x720 with 4 Axes>"
      ]
     },
     "metadata": {
      "needs_background": "light"
     },
     "output_type": "display_data"
    }
   ],
   "source": [
    "steps = len(df.cumulative_regret[0])\n",
    "models = list(df.model_name.unique())\n",
    "distributions = list(df.reward_distribution.unique())\n",
    "a_values = list(df.a.unique())\n",
    "x = np.arange(steps)\n",
    "\n",
    "colors = {'BetaPriorsSampling': 'c',\n",
    " 'GaussianPriorsSampling': 'dodgerblue',\n",
    " 'LinearGaussianSampling': 'coral',\n",
    " 'LinearSemiParametricSampling': 'crimson'}\n",
    "\n",
    "labels = {'BetaPriorsSampling': 'TS-Beta',\n",
    " 'GaussianPriorsSampling': 'TS-Gau',\n",
    " 'LinearGaussianSampling': 'TS-Lin',\n",
    " 'LinearSemiParametricSampling': 'LSPS'}\n",
    "\n",
    "symbols = {'BetaPriorsSampling': \"*\",\n",
    " 'GaussianPriorsSampling': \"x\",\n",
    " 'LinearGaussianSampling': 's',\n",
    " 'LinearSemiParametricSampling': \"o\"}\n",
    "\n",
    "fig, axs = plt.subplots(2, 2, figsize=[15, 10])\n",
    "for i_d, dist in enumerate(distributions[::-1]):\n",
    "    for i_a, a in enumerate(a_values):\n",
    "        print(dist)\n",
    "        print(a)\n",
    "        for m in models: # [\"LinearSemiParametricSampling\"]:#\n",
    "            color = colors[m]\n",
    "            df_m = df_for_plot_agg.query(f\"model_name == '{m}' and reward_distribution == '{dist}' and a == {a}\")\n",
    "            params = list(df_m.parameters.unique())\n",
    "            for i, p in enumerate(params):\n",
    "                df_p = df_m[df_m.parameters == p].sort_values(by='step')\n",
    "                linewidth = 3\n",
    "                linestyle = symbols[m]\n",
    "                y = df_p['mean'].values\n",
    "                upper = df_p['amax'].values \n",
    "                lower = df_p['amin'].values\n",
    "                \n",
    "                \n",
    "                if i_a == 0:\n",
    "                    label=labels[m]\n",
    "                else:\n",
    "                    label = None\n",
    "                axs[i_d, i_a].plot(x, y, label=label, color=color, linewidth=linewidth, marker=linestyle, markevery=10000)\n",
    "                axs[i_d, i_a].fill_between(x, upper, lower, color=color, alpha=.3)\n",
    "                axs[i_d, i_a].set_title(f\"a = {a}\", fontsize=15)\n",
    "\n",
    "for ax in fig.get_axes():\n",
    "    ax.set_xlabel('time step (t)', fontsize=15)\n",
    "    ax.set_ylabel('cumulative regret', fontsize=15)\n",
    "    ax.legend(loc='upper left', frameon=False) \n",
    "\n",
    "plt.subplots_adjust(hspace = 0.5, wspace=0.3 ) \n",
    "plt.figtext(0.45, 0.925, f'Gaussian distribution', fontsize=16)\n",
    "plt.figtext(0.45, 0.475,f'binomial distribution', fontsize=16)\n",
    "plt.savefig(f'results.png', bbox_inches='tight', pad_inches=0.05)\n",
    "plt.show()"
   ]
  },
  {
   "cell_type": "code",
   "execution_count": null,
   "metadata": {},
   "outputs": [],
   "source": []
  }
 ],
 "metadata": {
  "kernelspec": {
   "display_name": "Semi-parametric sampling (.venv)",
   "language": "python",
   "name": ".venv"
  },
  "language_info": {
   "codemirror_mode": {
    "name": "ipython",
    "version": 3
   },
   "file_extension": ".py",
   "mimetype": "text/x-python",
   "name": "python",
   "nbconvert_exporter": "python",
   "pygments_lexer": "ipython3",
   "version": "3.7.8"
  }
 },
 "nbformat": 4,
 "nbformat_minor": 4
}
